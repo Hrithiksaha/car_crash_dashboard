{
 "cells": [
  {
   "cell_type": "code",
   "execution_count": 1,
   "id": "78a776b4",
   "metadata": {},
   "outputs": [],
   "source": [
    "import pandas as pd "
   ]
  },
  {
   "cell_type": "code",
   "execution_count": 3,
   "id": "9853d583",
   "metadata": {},
   "outputs": [
    {
     "name": "stderr",
     "output_type": "stream",
     "text": [
      "C:\\Users\\hrithiks\\AppData\\Local\\Temp\\ipykernel_13236\\136808662.py:1: DtypeWarning: Columns (14) have mixed types. Specify dtype option on import or set low_memory=False.\n",
      "  df_units=pd.read_csv(r'C:\\Users\\hrithiks\\Downloads\\CAR_CRASH_ANALYSIS\\Data\\Units_use.csv')\n"
     ]
    }
   ],
   "source": [
    "df_units=pd.read_csv(r'C:\\Users\\hrithiks\\Downloads\\CAR_CRASH_ANALYSIS\\Data\\Units_use.csv')"
   ]
  },
  {
   "cell_type": "code",
   "execution_count": 4,
   "id": "0cda35b3",
   "metadata": {},
   "outputs": [
    {
     "data": {
      "text/html": [
       "<div>\n",
       "<style scoped>\n",
       "    .dataframe tbody tr th:only-of-type {\n",
       "        vertical-align: middle;\n",
       "    }\n",
       "\n",
       "    .dataframe tbody tr th {\n",
       "        vertical-align: top;\n",
       "    }\n",
       "\n",
       "    .dataframe thead th {\n",
       "        text-align: right;\n",
       "    }\n",
       "</style>\n",
       "<table border=\"1\" class=\"dataframe\">\n",
       "  <thead>\n",
       "    <tr style=\"text-align: right;\">\n",
       "      <th></th>\n",
       "      <th>CRASH_ID</th>\n",
       "      <th>UNIT_NBR</th>\n",
       "      <th>UNIT_DESC_ID</th>\n",
       "      <th>VEH_PARKED_FL</th>\n",
       "      <th>VEH_HNR_FL</th>\n",
       "      <th>VEH_LIC_STATE_ID</th>\n",
       "      <th>VIN</th>\n",
       "      <th>VEH_MOD_YEAR</th>\n",
       "      <th>VEH_COLOR_ID</th>\n",
       "      <th>VEH_MAKE_ID</th>\n",
       "      <th>...</th>\n",
       "      <th>CONTRIB_FACTR_P1_ID</th>\n",
       "      <th>VEH_TRVL_DIR_ID</th>\n",
       "      <th>FIRST_HARM_EVT_INV_ID</th>\n",
       "      <th>INCAP_INJRY_CNT</th>\n",
       "      <th>NONINCAP_INJRY_CNT</th>\n",
       "      <th>POSS_INJRY_CNT</th>\n",
       "      <th>NON_INJRY_CNT</th>\n",
       "      <th>UNKN_INJRY_CNT</th>\n",
       "      <th>TOT_INJRY_CNT</th>\n",
       "      <th>DEATH_CNT</th>\n",
       "    </tr>\n",
       "  </thead>\n",
       "  <tbody>\n",
       "    <tr>\n",
       "      <th>0</th>\n",
       "      <td>14768622</td>\n",
       "      <td>1</td>\n",
       "      <td>MOTOR VEHICLE</td>\n",
       "      <td>N</td>\n",
       "      <td>N</td>\n",
       "      <td>TX</td>\n",
       "      <td>4S2CK57D1X4381118</td>\n",
       "      <td>1999.0</td>\n",
       "      <td>GRY</td>\n",
       "      <td>ISUZU</td>\n",
       "      <td>...</td>\n",
       "      <td>NaN</td>\n",
       "      <td>EAST</td>\n",
       "      <td>Y</td>\n",
       "      <td>0</td>\n",
       "      <td>0</td>\n",
       "      <td>0</td>\n",
       "      <td>1</td>\n",
       "      <td>0</td>\n",
       "      <td>0</td>\n",
       "      <td>0</td>\n",
       "    </tr>\n",
       "    <tr>\n",
       "      <th>1</th>\n",
       "      <td>14838637</td>\n",
       "      <td>1</td>\n",
       "      <td>MOTOR VEHICLE</td>\n",
       "      <td>N</td>\n",
       "      <td>N</td>\n",
       "      <td>TX</td>\n",
       "      <td>WVWAN7AN6DE536582</td>\n",
       "      <td>NaN</td>\n",
       "      <td>GRY</td>\n",
       "      <td>VOLKSWAGEN</td>\n",
       "      <td>...</td>\n",
       "      <td>NaN</td>\n",
       "      <td>SOUTH</td>\n",
       "      <td>Y</td>\n",
       "      <td>0</td>\n",
       "      <td>0</td>\n",
       "      <td>0</td>\n",
       "      <td>1</td>\n",
       "      <td>0</td>\n",
       "      <td>0</td>\n",
       "      <td>0</td>\n",
       "    </tr>\n",
       "    <tr>\n",
       "      <th>2</th>\n",
       "      <td>14838637</td>\n",
       "      <td>2</td>\n",
       "      <td>MOTOR VEHICLE</td>\n",
       "      <td>N</td>\n",
       "      <td>N</td>\n",
       "      <td>TX</td>\n",
       "      <td>1FUJA6CG24LM14889</td>\n",
       "      <td>2004.0</td>\n",
       "      <td>RED</td>\n",
       "      <td>FREIGHTLINER</td>\n",
       "      <td>...</td>\n",
       "      <td>NaN</td>\n",
       "      <td>SOUTH</td>\n",
       "      <td>Y</td>\n",
       "      <td>0</td>\n",
       "      <td>0</td>\n",
       "      <td>0</td>\n",
       "      <td>1</td>\n",
       "      <td>0</td>\n",
       "      <td>0</td>\n",
       "      <td>0</td>\n",
       "    </tr>\n",
       "    <tr>\n",
       "      <th>3</th>\n",
       "      <td>14838637</td>\n",
       "      <td>2</td>\n",
       "      <td>MOTOR VEHICLE</td>\n",
       "      <td>N</td>\n",
       "      <td>N</td>\n",
       "      <td>TX</td>\n",
       "      <td>1FUJA6CG24LM14889</td>\n",
       "      <td>2004.0</td>\n",
       "      <td>RED</td>\n",
       "      <td>FREIGHTLINER</td>\n",
       "      <td>...</td>\n",
       "      <td>NaN</td>\n",
       "      <td>SOUTH</td>\n",
       "      <td>Y</td>\n",
       "      <td>0</td>\n",
       "      <td>0</td>\n",
       "      <td>0</td>\n",
       "      <td>1</td>\n",
       "      <td>0</td>\n",
       "      <td>0</td>\n",
       "      <td>0</td>\n",
       "    </tr>\n",
       "    <tr>\n",
       "      <th>4</th>\n",
       "      <td>14838637</td>\n",
       "      <td>3</td>\n",
       "      <td>TOWED/TRAILER</td>\n",
       "      <td>NaN</td>\n",
       "      <td>NaN</td>\n",
       "      <td>NaN</td>\n",
       "      <td>NaN</td>\n",
       "      <td>NaN</td>\n",
       "      <td>NaN</td>\n",
       "      <td>NaN</td>\n",
       "      <td>...</td>\n",
       "      <td>NaN</td>\n",
       "      <td>NOT APPLICABLE</td>\n",
       "      <td>N</td>\n",
       "      <td>0</td>\n",
       "      <td>0</td>\n",
       "      <td>0</td>\n",
       "      <td>0</td>\n",
       "      <td>0</td>\n",
       "      <td>0</td>\n",
       "      <td>0</td>\n",
       "    </tr>\n",
       "    <tr>\n",
       "      <th>...</th>\n",
       "      <td>...</td>\n",
       "      <td>...</td>\n",
       "      <td>...</td>\n",
       "      <td>...</td>\n",
       "      <td>...</td>\n",
       "      <td>...</td>\n",
       "      <td>...</td>\n",
       "      <td>...</td>\n",
       "      <td>...</td>\n",
       "      <td>...</td>\n",
       "      <td>...</td>\n",
       "      <td>...</td>\n",
       "      <td>...</td>\n",
       "      <td>...</td>\n",
       "      <td>...</td>\n",
       "      <td>...</td>\n",
       "      <td>...</td>\n",
       "      <td>...</td>\n",
       "      <td>...</td>\n",
       "      <td>...</td>\n",
       "      <td>...</td>\n",
       "    </tr>\n",
       "    <tr>\n",
       "      <th>173494</th>\n",
       "      <td>15700059</td>\n",
       "      <td>2</td>\n",
       "      <td>MOTOR VEHICLE</td>\n",
       "      <td>N</td>\n",
       "      <td>N</td>\n",
       "      <td>TX</td>\n",
       "      <td>5N1AA08C87N702589</td>\n",
       "      <td>2007.0</td>\n",
       "      <td>MAR</td>\n",
       "      <td>NISSAN</td>\n",
       "      <td>...</td>\n",
       "      <td>NaN</td>\n",
       "      <td>EAST</td>\n",
       "      <td>Y</td>\n",
       "      <td>0</td>\n",
       "      <td>0</td>\n",
       "      <td>0</td>\n",
       "      <td>2</td>\n",
       "      <td>0</td>\n",
       "      <td>0</td>\n",
       "      <td>0</td>\n",
       "    </tr>\n",
       "    <tr>\n",
       "      <th>173495</th>\n",
       "      <td>15700059</td>\n",
       "      <td>3</td>\n",
       "      <td>MOTOR VEHICLE</td>\n",
       "      <td>N</td>\n",
       "      <td>N</td>\n",
       "      <td>TX</td>\n",
       "      <td>1VWAH7A36CC098773</td>\n",
       "      <td>NaN</td>\n",
       "      <td>WHI</td>\n",
       "      <td>VOLKSWAGEN</td>\n",
       "      <td>...</td>\n",
       "      <td>NaN</td>\n",
       "      <td>EAST</td>\n",
       "      <td>N</td>\n",
       "      <td>0</td>\n",
       "      <td>0</td>\n",
       "      <td>0</td>\n",
       "      <td>1</td>\n",
       "      <td>0</td>\n",
       "      <td>0</td>\n",
       "      <td>0</td>\n",
       "    </tr>\n",
       "    <tr>\n",
       "      <th>173496</th>\n",
       "      <td>15700064</td>\n",
       "      <td>1</td>\n",
       "      <td>MOTOR VEHICLE</td>\n",
       "      <td>N</td>\n",
       "      <td>N</td>\n",
       "      <td>TX</td>\n",
       "      <td>1N4AL2AP4CC126891</td>\n",
       "      <td>NaN</td>\n",
       "      <td>SIL</td>\n",
       "      <td>NISSAN</td>\n",
       "      <td>...</td>\n",
       "      <td>OTHER (EXPLAIN IN NARRATIVE)</td>\n",
       "      <td>EAST</td>\n",
       "      <td>Y</td>\n",
       "      <td>0</td>\n",
       "      <td>0</td>\n",
       "      <td>0</td>\n",
       "      <td>1</td>\n",
       "      <td>0</td>\n",
       "      <td>0</td>\n",
       "      <td>0</td>\n",
       "    </tr>\n",
       "    <tr>\n",
       "      <th>173497</th>\n",
       "      <td>15700064</td>\n",
       "      <td>2</td>\n",
       "      <td>MOTOR VEHICLE</td>\n",
       "      <td>N</td>\n",
       "      <td>N</td>\n",
       "      <td>TX</td>\n",
       "      <td>1GNDS13S222490793</td>\n",
       "      <td>2002.0</td>\n",
       "      <td>GLD</td>\n",
       "      <td>CHEVROLET</td>\n",
       "      <td>...</td>\n",
       "      <td>NaN</td>\n",
       "      <td>EAST</td>\n",
       "      <td>Y</td>\n",
       "      <td>0</td>\n",
       "      <td>0</td>\n",
       "      <td>0</td>\n",
       "      <td>1</td>\n",
       "      <td>0</td>\n",
       "      <td>0</td>\n",
       "      <td>0</td>\n",
       "    </tr>\n",
       "    <tr>\n",
       "      <th>173498</th>\n",
       "      <td>15712435</td>\n",
       "      <td>1</td>\n",
       "      <td>MOTOR VEHICLE</td>\n",
       "      <td>N</td>\n",
       "      <td>Y</td>\n",
       "      <td>TX</td>\n",
       "      <td>1ZWFT603825603338</td>\n",
       "      <td>2002.0</td>\n",
       "      <td>BLK</td>\n",
       "      <td>MERCURY</td>\n",
       "      <td>...</td>\n",
       "      <td>NaN</td>\n",
       "      <td>SOUTHWEST</td>\n",
       "      <td>Y</td>\n",
       "      <td>0</td>\n",
       "      <td>0</td>\n",
       "      <td>0</td>\n",
       "      <td>1</td>\n",
       "      <td>0</td>\n",
       "      <td>0</td>\n",
       "      <td>0</td>\n",
       "    </tr>\n",
       "  </tbody>\n",
       "</table>\n",
       "<p>173499 rows × 37 columns</p>\n",
       "</div>"
      ],
      "text/plain": [
       "        CRASH_ID  UNIT_NBR   UNIT_DESC_ID VEH_PARKED_FL VEH_HNR_FL  \\\n",
       "0       14768622         1  MOTOR VEHICLE             N          N   \n",
       "1       14838637         1  MOTOR VEHICLE             N          N   \n",
       "2       14838637         2  MOTOR VEHICLE             N          N   \n",
       "3       14838637         2  MOTOR VEHICLE             N          N   \n",
       "4       14838637         3  TOWED/TRAILER           NaN        NaN   \n",
       "...          ...       ...            ...           ...        ...   \n",
       "173494  15700059         2  MOTOR VEHICLE             N          N   \n",
       "173495  15700059         3  MOTOR VEHICLE             N          N   \n",
       "173496  15700064         1  MOTOR VEHICLE             N          N   \n",
       "173497  15700064         2  MOTOR VEHICLE             N          N   \n",
       "173498  15712435         1  MOTOR VEHICLE             N          Y   \n",
       "\n",
       "       VEH_LIC_STATE_ID                VIN  VEH_MOD_YEAR VEH_COLOR_ID  \\\n",
       "0                    TX  4S2CK57D1X4381118        1999.0          GRY   \n",
       "1                    TX  WVWAN7AN6DE536582           NaN          GRY   \n",
       "2                    TX  1FUJA6CG24LM14889        2004.0          RED   \n",
       "3                    TX  1FUJA6CG24LM14889        2004.0          RED   \n",
       "4                   NaN                NaN           NaN          NaN   \n",
       "...                 ...                ...           ...          ...   \n",
       "173494               TX  5N1AA08C87N702589        2007.0          MAR   \n",
       "173495               TX  1VWAH7A36CC098773           NaN          WHI   \n",
       "173496               TX  1N4AL2AP4CC126891           NaN          SIL   \n",
       "173497               TX  1GNDS13S222490793        2002.0          GLD   \n",
       "173498               TX  1ZWFT603825603338        2002.0          BLK   \n",
       "\n",
       "         VEH_MAKE_ID  ...           CONTRIB_FACTR_P1_ID VEH_TRVL_DIR_ID  \\\n",
       "0              ISUZU  ...                           NaN            EAST   \n",
       "1         VOLKSWAGEN  ...                           NaN           SOUTH   \n",
       "2       FREIGHTLINER  ...                           NaN           SOUTH   \n",
       "3       FREIGHTLINER  ...                           NaN           SOUTH   \n",
       "4                NaN  ...                           NaN  NOT APPLICABLE   \n",
       "...              ...  ...                           ...             ...   \n",
       "173494        NISSAN  ...                           NaN            EAST   \n",
       "173495    VOLKSWAGEN  ...                           NaN            EAST   \n",
       "173496        NISSAN  ...  OTHER (EXPLAIN IN NARRATIVE)            EAST   \n",
       "173497     CHEVROLET  ...                           NaN            EAST   \n",
       "173498       MERCURY  ...                           NaN       SOUTHWEST   \n",
       "\n",
       "       FIRST_HARM_EVT_INV_ID INCAP_INJRY_CNT NONINCAP_INJRY_CNT  \\\n",
       "0                          Y               0                  0   \n",
       "1                          Y               0                  0   \n",
       "2                          Y               0                  0   \n",
       "3                          Y               0                  0   \n",
       "4                          N               0                  0   \n",
       "...                      ...             ...                ...   \n",
       "173494                     Y               0                  0   \n",
       "173495                     N               0                  0   \n",
       "173496                     Y               0                  0   \n",
       "173497                     Y               0                  0   \n",
       "173498                     Y               0                  0   \n",
       "\n",
       "       POSS_INJRY_CNT NON_INJRY_CNT UNKN_INJRY_CNT  TOT_INJRY_CNT DEATH_CNT  \n",
       "0                   0             1              0              0         0  \n",
       "1                   0             1              0              0         0  \n",
       "2                   0             1              0              0         0  \n",
       "3                   0             1              0              0         0  \n",
       "4                   0             0              0              0         0  \n",
       "...               ...           ...            ...            ...       ...  \n",
       "173494              0             2              0              0         0  \n",
       "173495              0             1              0              0         0  \n",
       "173496              0             1              0              0         0  \n",
       "173497              0             1              0              0         0  \n",
       "173498              0             1              0              0         0  \n",
       "\n",
       "[173499 rows x 37 columns]"
      ]
     },
     "execution_count": 4,
     "metadata": {},
     "output_type": "execute_result"
    }
   ],
   "source": [
    "df_units"
   ]
  },
  {
   "cell_type": "code",
   "execution_count": 7,
   "id": "cfcc7aef",
   "metadata": {},
   "outputs": [
    {
     "data": {
      "text/plain": [
       "MOTOR VEHICLE                    167456\n",
       "TOWED/TRAILER                      4965\n",
       "PEDESTRIAN                          520\n",
       "NON-CONTACT                         302\n",
       "PEDALCYCLIST                        164\n",
       "TRAIN                                46\n",
       "OTHER  (EXPLAIN IN NARRATIVE)        38\n",
       "MOTORIZED CONVEYANCE                  8\n",
       "Name: UNIT_DESC_ID, dtype: int64"
      ]
     },
     "execution_count": 7,
     "metadata": {},
     "output_type": "execute_result"
    }
   ],
   "source": [
    "df_units['UNIT_DESC_ID'].value_counts()"
   ]
  },
  {
   "cell_type": "code",
   "execution_count": 8,
   "id": "15981db8",
   "metadata": {},
   "outputs": [
    {
     "data": {
      "text/plain": [
       "N    161167\n",
       "Y      6596\n",
       "Name: VEH_PARKED_FL, dtype: int64"
      ]
     },
     "execution_count": 8,
     "metadata": {},
     "output_type": "execute_result"
    }
   ],
   "source": [
    "df_units['VEH_PARKED_FL'].value_counts() #vehicle parked or not "
   ]
  },
  {
   "cell_type": "code",
   "execution_count": 9,
   "id": "697425ae",
   "metadata": {},
   "outputs": [
    {
     "data": {
      "text/plain": [
       "N    162792\n",
       "Y      4971\n",
       "Name: VEH_HNR_FL, dtype: int64"
      ]
     },
     "execution_count": 9,
     "metadata": {},
     "output_type": "execute_result"
    }
   ],
   "source": [
    "df_units['VEH_HNR_FL'].value_counts() #hit and run"
   ]
  },
  {
   "cell_type": "code",
   "execution_count": 10,
   "id": "7a8ab9d4",
   "metadata": {},
   "outputs": [
    {
     "data": {
      "text/plain": [
       "TX    156997\n",
       "UN      1791\n",
       "OK       970\n",
       "LA       782\n",
       "NM       731\n",
       "IN       544\n",
       "MX       493\n",
       "CA       482\n",
       "FL       416\n",
       "IL       370\n",
       "AR       350\n",
       "TN       304\n",
       "MS       244\n",
       "AZ       236\n",
       "KS       186\n",
       "MO       177\n",
       "GA       177\n",
       "CO       175\n",
       "NC       159\n",
       "AL       145\n",
       "OH       127\n",
       "MI       122\n",
       "MN       113\n",
       "98       109\n",
       "WI       101\n",
       "VA        98\n",
       "NE        88\n",
       "WA        85\n",
       "IA        79\n",
       "UT        75\n",
       "OR        71\n",
       "PA        70\n",
       "SC        63\n",
       "CD        57\n",
       "NY        50\n",
       "KY        45\n",
       "NV        41\n",
       "MD        40\n",
       "NJ        34\n",
       "MT        31\n",
       "ID        28\n",
       "ND        26\n",
       "CT        21\n",
       "SD        20\n",
       "WY        19\n",
       "AK        16\n",
       "MA        11\n",
       "WV        10\n",
       "AS        10\n",
       "NH         8\n",
       "ME         7\n",
       "US         7\n",
       "RI         6\n",
       "VT         5\n",
       "HI         5\n",
       "DE         4\n",
       "DS         2\n",
       "DC         1\n",
       "Name: VEH_LIC_STATE_ID, dtype: int64"
      ]
     },
     "execution_count": 10,
     "metadata": {},
     "output_type": "execute_result"
    }
   ],
   "source": [
    "df_units['VEH_LIC_STATE_ID'].value_counts()"
   ]
  },
  {
   "cell_type": "code",
   "execution_count": 12,
   "id": "bd959fcb",
   "metadata": {},
   "outputs": [
    {
     "data": {
      "text/plain": [
       "2007.0    13381\n",
       "2006.0    11610\n",
       "2005.0    10946\n",
       "2004.0     9880\n",
       "2003.0     9084\n",
       "          ...  \n",
       "1919.0        1\n",
       "1951.0        1\n",
       "1940.0        1\n",
       "1958.0        1\n",
       "1933.0        1\n",
       "Name: VEH_MOD_YEAR, Length: 62, dtype: int64"
      ]
     },
     "execution_count": 12,
     "metadata": {},
     "output_type": "execute_result"
    }
   ],
   "source": [
    "df_units['VEH_MOD_YEAR'].value_counts()"
   ]
  },
  {
   "cell_type": "code",
   "execution_count": 13,
   "id": "09cf6031",
   "metadata": {},
   "outputs": [
    {
     "data": {
      "text/plain": [
       "WHI    38354\n",
       "BLK    27749\n",
       "SIL    20777\n",
       "GRY    18174\n",
       "BLU    15471\n",
       "RED    14095\n",
       "GRN     6767\n",
       "MAR     6010\n",
       "TAN     4846\n",
       "GLD     4062\n",
       "BRO     2531\n",
       "99      2330\n",
       "BGE     2200\n",
       "YEL     1283\n",
       "MUL      966\n",
       "ONG      816\n",
       "PLE      393\n",
       "BRZ      154\n",
       "98       149\n",
       "TEA       86\n",
       "TRQ       43\n",
       "PNK       27\n",
       "CPR       18\n",
       "CAM        5\n",
       "Name: VEH_COLOR_ID, dtype: int64"
      ]
     },
     "execution_count": 13,
     "metadata": {},
     "output_type": "execute_result"
    }
   ],
   "source": [
    "df_units['VEH_COLOR_ID'].value_counts()"
   ]
  },
  {
   "cell_type": "code",
   "execution_count": 14,
   "id": "8cbc1668",
   "metadata": {},
   "outputs": [
    {
     "data": {
      "text/plain": [
       "FORD                             29792\n",
       "CHEVROLET                        28073\n",
       "TOYOTA                           16487\n",
       "DODGE                            13091\n",
       "NISSAN                           10964\n",
       "                                 ...  \n",
       "FEDERAL MOTORS                       1\n",
       "ULTRA LITE MFG                       1\n",
       "VESPA                                1\n",
       "MIDLAND MANUFACTURING LIMITED        1\n",
       "ASTON MARTIN                         1\n",
       "Name: VEH_MAKE_ID, Length: 157, dtype: int64"
      ]
     },
     "execution_count": 14,
     "metadata": {},
     "output_type": "execute_result"
    }
   ],
   "source": [
    "df_units['VEH_MAKE_ID'].value_counts()"
   ]
  },
  {
   "cell_type": "code",
   "execution_count": 15,
   "id": "0240327f",
   "metadata": {},
   "outputs": [
    {
     "data": {
      "text/plain": [
       "UNKNOWN          10348\n",
       "F150              8612\n",
       "SILVERADO         4665\n",
       "ACCORD            4156\n",
       "CAMRY             4073\n",
       "                 ...  \n",
       "SALON                1\n",
       "ELITE                1\n",
       "LS 600H L            1\n",
       "SILVER SERIES        1\n",
       "CUTLASS GLS          1\n",
       "Name: VEH_MOD_ID, Length: 991, dtype: int64"
      ]
     },
     "execution_count": 15,
     "metadata": {},
     "output_type": "execute_result"
    }
   ],
   "source": [
    "df_units['VEH_MOD_ID'].value_counts()"
   ]
  },
  {
   "cell_type": "code",
   "execution_count": 16,
   "id": "9febb3fc",
   "metadata": {},
   "outputs": [
    {
     "data": {
      "text/plain": [
       "PASSENGER CAR, 4-DOOR                65559\n",
       "PICKUP                               36799\n",
       "SPORT UTILITY VEHICLE                33310\n",
       "PASSENGER CAR, 2-DOOR                11033\n",
       "TRUCK TRACTOR                         6532\n",
       "VAN                                   5659\n",
       "TRUCK                                 4534\n",
       "UNKNOWN                               1631\n",
       "MOTORCYCLE                             781\n",
       "OTHER  (EXPLAIN IN NARRATIVE)          516\n",
       "BUS                                    463\n",
       "POLICE CAR/TRUCK                       399\n",
       "YELLOW SCHOOL BUS                      279\n",
       "FIRE TRUCK                             106\n",
       "AMBULANCE                               87\n",
       "FARM EQUIPMENT                          57\n",
       "NEV-NEIGHBORHOOD ELECTRIC VEHICLE        6\n",
       "POLICE MOTORCYCLE                        3\n",
       "NOT REPORTED                             2\n",
       "Name: VEH_BODY_STYL_ID, dtype: int64"
      ]
     },
     "execution_count": 16,
     "metadata": {},
     "output_type": "execute_result"
    }
   ],
   "source": [
    "df_units['VEH_BODY_STYL_ID'].value_counts()"
   ]
  },
  {
   "cell_type": "code",
   "execution_count": null,
   "id": "e6bc0ecd",
   "metadata": {},
   "outputs": [],
   "source": [
    "df_units['VEH_BODY_STYL_ID'].value_counts()"
   ]
  },
  {
   "cell_type": "code",
   "execution_count": 17,
   "id": "00db7f04",
   "metadata": {},
   "outputs": [
    {
     "data": {
      "text/plain": [
       "N    166865\n",
       "Y       898\n",
       "Name: EMER_RESPNDR_FL, dtype: int64"
      ]
     },
     "execution_count": 17,
     "metadata": {},
     "output_type": "execute_result"
    }
   ],
   "source": [
    "df_units['EMER_RESPNDR_FL'].value_counts() #to check if govt official is involved in accident"
   ]
  },
  {
   "cell_type": "code",
   "execution_count": 18,
   "id": "b54302ca",
   "metadata": {},
   "outputs": [
    {
     "data": {
      "text/plain": [
       "78521         1066\n",
       "79936          984\n",
       "78046          779\n",
       "77573          729\n",
       "78045          726\n",
       "              ... \n",
       "79589            1\n",
       "70598            1\n",
       "30214            1\n",
       "37218            1\n",
       "77082-0000       1\n",
       "Name: OWNR_ZIP, Length: 6367, dtype: int64"
      ]
     },
     "execution_count": 18,
     "metadata": {},
     "output_type": "execute_result"
    }
   ],
   "source": [
    "df_units['OWNR_ZIP'].value_counts()"
   ]
  },
  {
   "cell_type": "code",
   "execution_count": 19,
   "id": "67b2dc74",
   "metadata": {},
   "outputs": [
    {
     "data": {
      "text/plain": [
       "1.0    121465\n",
       "1       28539\n",
       "2.0     11725\n",
       "2        2554\n",
       "3.0      1716\n",
       "4.0       423\n",
       "3         377\n",
       "4         103\n",
       "NR          2\n",
       "Name: FIN_RESP_PROOF_ID, dtype: int64"
      ]
     },
     "execution_count": 19,
     "metadata": {},
     "output_type": "execute_result"
    }
   ],
   "source": [
    "df_units['FIN_RESP_PROOF_ID'].value_counts()"
   ]
  },
  {
   "cell_type": "code",
   "execution_count": 20,
   "id": "ecfb9424",
   "metadata": {},
   "outputs": [
    {
     "data": {
      "text/plain": [
       "PROOF OF LIABILITY INSURANCE                114998\n",
       "LIABILITY INSURANCE POLICY                   35484\n",
       "CERTIFICATE OF SELF-INSURANCE                 1450\n",
       "INSURANCE BINDER                               339\n",
       "SURETY BOND                                     67\n",
       "CERTIFICATE OF DEPOSIT WITH COMPTROLLER         20\n",
       "CERTIFICATE OF DEPOSIT WITH COUNTY JUDGE        11\n",
       "Name: FIN_RESP_TYPE_ID, dtype: int64"
      ]
     },
     "execution_count": 20,
     "metadata": {},
     "output_type": "execute_result"
    }
   ],
   "source": [
    "df_units['FIN_RESP_TYPE_ID'].value_counts()"
   ]
  },
  {
   "cell_type": "code",
   "execution_count": 21,
   "id": "71d5d6b4",
   "metadata": {},
   "outputs": [
    {
     "data": {
      "text/plain": [
       "FRONT END DAMAGE DISTRIBUTED IMPACT                39081\n",
       "BACK END DAMAGE DISTRIBUTED IMPACT                 19665\n",
       "FRONT END (LEFT) DAMAGE PARTIAL CONTACT            16123\n",
       "FRONT END (RIGHT)  DAMAGE PARTIAL CONTACT          14718\n",
       "FRONT END DAMAGE CONCENTRATED IMPACT                8946\n",
       "LEFT FRONT QUARTER DAMAGE ANGULAR IMPACT            8642\n",
       "RIGHT FRONT QUARTER DAMAGE ANGULAR IMPACT           7936\n",
       "BACK END (LEFT) DAMAGE PARTIAL CONTACT              5748\n",
       "LEFT SIDE DAMAGE ANGULAR IMPACT                     5321\n",
       "RIGHT SIDE DAMAGE ANGULAR IMPACT                    5255\n",
       "LEFT BACK QUARTER DAMAGE ANGULAR IMPACT             5248\n",
       "BACK END (RIGHT) DAMAGE PARTIAL CONTACT             5026\n",
       "RIGHT BACK QUARTER DAMAGE ANGULAR IMPACT            4722\n",
       "DISTRIBUTED LEFT SIDE DAMAGE PARALLEL IMPACT        4669\n",
       "DISTRIBUTED RIGHT SIDE DAMAGE PARALLEL IMPACT       4438\n",
       "BACK END DAMAGE CONCENTRATED IMPACT                 3973\n",
       "LEFT SIDE AND TOP DAMAGE ROLLOVER EFFECTS           1648\n",
       "RIGHT SIDE AND TOP DAMAGE ROLLOVER EFFECTS          1615\n",
       "MOTORCYCLE, SCOOTER, MOPED, ETC. ONLY                373\n",
       "UNDERCARRIAGE DAMAGE ONLY                            344\n",
       "UNKNOWN                                              142\n",
       "NOT APPLICABLE (MOTORCYCLE, FARM TRACTOR, ETC.)      138\n",
       "NOT APPLICABLE ( FARM TRACTOR, ETC.)                 138\n",
       "TOP DAMAGE ONLY                                      138\n",
       "INVALID VALUE                                        136\n",
       "VEHICLE BURNED                                        91\n",
       "Name: VEH_DMAG_AREA_1_ID, dtype: int64"
      ]
     },
     "execution_count": 21,
     "metadata": {},
     "output_type": "execute_result"
    }
   ],
   "source": [
    "df_units['VEH_DMAG_AREA_1_ID'].value_counts()"
   ]
  },
  {
   "cell_type": "code",
   "execution_count": 22,
   "id": "ef82e302",
   "metadata": {},
   "outputs": [
    {
     "data": {
      "text/plain": [
       "DAMAGED 2            44914\n",
       "DAMAGED 1 MINIMUM    39487\n",
       "DAMAGED 3            38847\n",
       "DAMAGED 4            20172\n",
       "DAMAGED 5             9999\n",
       "DAMAGED 6             4288\n",
       "NO DAMAGE             3269\n",
       "DAMAGED 7 HIGHEST     2967\n",
       "INVALID VALUE           13\n",
       "Name: VEH_DMAG_SCL_1_ID, dtype: int64"
      ]
     },
     "execution_count": 22,
     "metadata": {},
     "output_type": "execute_result"
    }
   ],
   "source": [
    "df_units['VEH_DMAG_SCL_1_ID'].value_counts() # 1 being low and 7 being highest "
   ]
  },
  {
   "cell_type": "code",
   "execution_count": 23,
   "id": "92c55145",
   "metadata": {},
   "outputs": [
    {
     "data": {
      "text/plain": [
       "12.0    50134\n",
       "6.0     26486\n",
       "1.0     14930\n",
       "11.0    13806\n",
       "3.0     10776\n",
       "9.0      9866\n",
       "2.0      5860\n",
       "7.0      5524\n",
       "10.0     5425\n",
       "5.0      4707\n",
       "8.0      3081\n",
       "4.0      2768\n",
       "95.0      107\n",
       "Name: FORCE_DIR_1_ID, dtype: int64"
      ]
     },
     "execution_count": 23,
     "metadata": {},
     "output_type": "execute_result"
    }
   ],
   "source": [
    "df_units['FORCE_DIR_1_ID'].value_counts()"
   ]
  },
  {
   "cell_type": "code",
   "execution_count": 24,
   "id": "15314662",
   "metadata": {},
   "outputs": [
    {
     "data": {
      "text/plain": [
       "FRONT END DAMAGE DISTRIBUTED IMPACT                6942\n",
       "BACK END DAMAGE DISTRIBUTED IMPACT                 2731\n",
       "FRONT END (RIGHT)  DAMAGE PARTIAL CONTACT          2461\n",
       "FRONT END (LEFT) DAMAGE PARTIAL CONTACT            2327\n",
       "LEFT BACK QUARTER DAMAGE ANGULAR IMPACT            2319\n",
       "RIGHT BACK QUARTER DAMAGE ANGULAR IMPACT           2170\n",
       "RIGHT FRONT QUARTER DAMAGE ANGULAR IMPACT          2035\n",
       "DISTRIBUTED LEFT SIDE DAMAGE PARALLEL IMPACT       1991\n",
       "DISTRIBUTED RIGHT SIDE DAMAGE PARALLEL IMPACT      1979\n",
       "LEFT FRONT QUARTER DAMAGE ANGULAR IMPACT           1891\n",
       "LEFT SIDE DAMAGE ANGULAR IMPACT                    1766\n",
       "FRONT END DAMAGE CONCENTRATED IMPACT               1745\n",
       "RIGHT SIDE DAMAGE ANGULAR IMPACT                   1674\n",
       "LEFT SIDE AND TOP DAMAGE ROLLOVER EFFECTS          1211\n",
       "RIGHT SIDE AND TOP DAMAGE ROLLOVER EFFECTS         1093\n",
       "BACK END (LEFT) DAMAGE PARTIAL CONTACT             1019\n",
       "BACK END (RIGHT) DAMAGE PARTIAL CONTACT            1012\n",
       "UNDERCARRIAGE DAMAGE ONLY                           625\n",
       "BACK END DAMAGE CONCENTRATED IMPACT                 557\n",
       "TOP DAMAGE ONLY                                     296\n",
       "VEHICLE BURNED                                      144\n",
       "UNKNOWN                                              56\n",
       "INVALID VALUE                                        43\n",
       "MOTORCYCLE, SCOOTER, MOPED, ETC. ONLY                23\n",
       "NOT APPLICABLE (MOTORCYCLE, FARM TRACTOR, ETC.)      22\n",
       "NOT APPLICABLE ( FARM TRACTOR, ETC.)                 22\n",
       "Name: VEH_DMAG_AREA_2_ID, dtype: int64"
      ]
     },
     "execution_count": 24,
     "metadata": {},
     "output_type": "execute_result"
    }
   ],
   "source": [
    "df_units['VEH_DMAG_AREA_2_ID'].value_counts()"
   ]
  },
  {
   "cell_type": "code",
   "execution_count": 25,
   "id": "8fbfeedb",
   "metadata": {},
   "outputs": [
    {
     "data": {
      "text/plain": [
       "DAMAGED 2            11439\n",
       "DAMAGED 1 MINIMUM     9638\n",
       "DAMAGED 3             8341\n",
       "DAMAGED 4             3761\n",
       "DAMAGED 5             1928\n",
       "NO DAMAGE             1173\n",
       "DAMAGED 7 HIGHEST      939\n",
       "DAMAGED 6              885\n",
       "INVALID VALUE            6\n",
       "Name: VEH_DMAG_SCL_2_ID, dtype: int64"
      ]
     },
     "execution_count": 25,
     "metadata": {},
     "output_type": "execute_result"
    }
   ],
   "source": [
    "df_units['VEH_DMAG_SCL_2_ID'].value_counts()"
   ]
  },
  {
   "cell_type": "code",
   "execution_count": 26,
   "id": "1cefaed0",
   "metadata": {},
   "outputs": [
    {
     "data": {
      "text/plain": [
       "12.0    9146\n",
       "3.0     3612\n",
       "1.0     3534\n",
       "9.0     3514\n",
       "6.0     3346\n",
       "11.0    2861\n",
       "2.0     1607\n",
       "5.0     1356\n",
       "10.0    1355\n",
       "7.0     1315\n",
       "8.0      992\n",
       "4.0      909\n",
       "95.0      35\n",
       "Name: FORCE_DIR_2_ID, dtype: int64"
      ]
     },
     "execution_count": 26,
     "metadata": {},
     "output_type": "execute_result"
    }
   ],
   "source": [
    "df_units['FORCE_DIR_2_ID'].value_counts()"
   ]
  },
  {
   "cell_type": "code",
   "execution_count": 27,
   "id": "3b39133d",
   "metadata": {},
   "outputs": [
    {
     "data": {
      "text/plain": [
       "N    135360\n",
       "Y     29931\n",
       "Name: VEH_INVENTORIED_FL, dtype: int64"
      ]
     },
     "execution_count": 27,
     "metadata": {},
     "output_type": "execute_result"
    }
   ],
   "source": [
    "df_units['VEH_INVENTORIED_FL'].value_counts()"
   ]
  },
  {
   "cell_type": "code",
   "execution_count": 28,
   "id": "9120337f",
   "metadata": {},
   "outputs": [
    {
     "data": {
      "text/plain": [
       "DRIVER                                    12788\n",
       "DRIVEN AWAY                                5346\n",
       "NOT TOWED                                  4325\n",
       "OWNER                                      3756\n",
       "CONTRACT WRECKER                           3093\n",
       "                                          ...  \n",
       "TEXSTAR WRECKER (361) 852-0202                1\n",
       "ALMIGHTY TOWING SERVICE (361) 726-7380        1\n",
       "ALLIANCE TOWING                               1\n",
       "1500 N PRUETT                                 1\n",
       "K&M WRECKER SERVICE                           1\n",
       "Name: VEH_TRANSP_NAME, Length: 17816, dtype: int64"
      ]
     },
     "execution_count": 28,
     "metadata": {},
     "output_type": "execute_result"
    }
   ],
   "source": [
    "df_units['VEH_TRANSP_NAME'].value_counts() #towed by"
   ]
  },
  {
   "cell_type": "code",
   "execution_count": 29,
   "id": "52347b5c",
   "metadata": {},
   "outputs": [
    {
     "data": {
      "text/plain": [
       "DRIVEN AWAY                                 8999\n",
       "NOT TOWED                                   3815\n",
       "DRIVEN FROM SCENE                           3337\n",
       "TRAFFIC                                     3149\n",
       "1955 VILBIG, DALLAS, TEXAS                  1263\n",
       "                                            ... \n",
       "3920 BEAUMONT AVE., LIBERTY, TX 77575          1\n",
       "291 US 290 ELGIN TX 78621                      1\n",
       "MARKET ST                                      1\n",
       "1305 DANVILLE CT,COLLEGE STATION,TX 7784       1\n",
       "1700 BRITTMOORE RD. HOUSTON, TX. 77084         1\n",
       "Name: VEH_TRANSP_DEST, Length: 31424, dtype: int64"
      ]
     },
     "execution_count": 29,
     "metadata": {},
     "output_type": "execute_result"
    }
   ],
   "source": [
    "df_units['VEH_TRANSP_DEST'].value_counts()"
   ]
  },
  {
   "cell_type": "code",
   "execution_count": 30,
   "id": "082c03b0",
   "metadata": {},
   "outputs": [
    {
     "data": {
      "text/plain": [
       "NONE                                         84563\n",
       "FAILED TO CONTROL SPEED                      23502\n",
       "FAILED TO DRIVE IN SINGLE LANE                6423\n",
       "DRIVER INATTENTION                            6093\n",
       "UNSAFE SPEED                                  5763\n",
       "                                             ...  \n",
       "PARKED AND FAILED TO SET BRAKES                 16\n",
       "OPENED DOOR INTO TRAFFIC LANE                   13\n",
       "HANDICAPPED DRIVER (EXPLAIN IN NARRATIVE)        8\n",
       "FAILED TO STOP FOR SCHOOL BUS                    5\n",
       "PARKED WITHOUT LIGHTS                            2\n",
       "Name: CONTRIB_FACTR_1_ID, Length: 64, dtype: int64"
      ]
     },
     "execution_count": 30,
     "metadata": {},
     "output_type": "execute_result"
    }
   ],
   "source": [
    "df_units['CONTRIB_FACTR_1_ID'].value_counts()"
   ]
  },
  {
   "cell_type": "code",
   "execution_count": 31,
   "id": "223191ef",
   "metadata": {},
   "outputs": [
    {
     "data": {
      "text/plain": [
       "DRIVER INATTENTION                 5339\n",
       "FAILED TO CONTROL SPEED            3198\n",
       "FAILED TO DRIVE IN SINGLE LANE     2147\n",
       "UNDER INFLUENCE - ALCOHOL          1823\n",
       "FAULTY EVASIVE ACTION              1686\n",
       "                                   ... \n",
       "PEDESTRIAN FTYROW TO VEHICLE          6\n",
       "PARKED AND FAILED TO SET BRAKES       5\n",
       "FAILED TO STOP FOR SCHOOL BUS         4\n",
       "FIRE IN VEHICLE                       2\n",
       "OPENED DOOR INTO TRAFFIC LANE         2\n",
       "Name: CONTRIB_FACTR_2_ID, Length: 64, dtype: int64"
      ]
     },
     "execution_count": 31,
     "metadata": {},
     "output_type": "execute_result"
    }
   ],
   "source": [
    "df_units['CONTRIB_FACTR_2_ID'].value_counts()"
   ]
  },
  {
   "cell_type": "code",
   "execution_count": 32,
   "id": "7afe1dfd",
   "metadata": {},
   "outputs": [
    {
     "data": {
      "text/plain": [
       "DRIVER INATTENTION                 7102\n",
       "HAD BEEN DRINKING                  1418\n",
       "FAILED TO CONTROL SPEED            1418\n",
       "DISTRACTION IN VEHICLE             1086\n",
       "UNDER INFLUENCE - ALCOHOL           999\n",
       "                                   ... \n",
       "LOAD NOT SECURED                      4\n",
       "PARKED AND FAILED TO SET BRAKES       3\n",
       "FAILED TO STOP FOR SCHOOL BUS         1\n",
       "FIRE IN VEHICLE                       1\n",
       "OPENED DOOR INTO TRAFFIC LANE         1\n",
       "Name: CONTRIB_FACTR_P1_ID, Length: 63, dtype: int64"
      ]
     },
     "execution_count": 32,
     "metadata": {},
     "output_type": "execute_result"
    }
   ],
   "source": [
    "df_units['CONTRIB_FACTR_P1_ID'].value_counts()"
   ]
  },
  {
   "cell_type": "code",
   "execution_count": 33,
   "id": "d0b8c605",
   "metadata": {},
   "outputs": [
    {
     "data": {
      "text/plain": [
       "NORTH             36960\n",
       "SOUTH             35230\n",
       "EAST              34043\n",
       "WEST              32886\n",
       "NORTHEAST          7087\n",
       "SOUTHWEST          6876\n",
       "SOUTHEAST          6749\n",
       "NORTHWEST          6716\n",
       "NOT APPLICABLE     5739\n",
       "UNKNOWN            1213\n",
       "Name: VEH_TRVL_DIR_ID, dtype: int64"
      ]
     },
     "execution_count": 33,
     "metadata": {},
     "output_type": "execute_result"
    }
   ],
   "source": [
    "df_units['VEH_TRVL_DIR_ID'].value_counts()"
   ]
  },
  {
   "cell_type": "code",
   "execution_count": 34,
   "id": "5284fefb",
   "metadata": {},
   "outputs": [
    {
     "data": {
      "text/plain": [
       "Y    150552\n",
       "N     22947\n",
       "Name: FIRST_HARM_EVT_INV_ID, dtype: int64"
      ]
     },
     "execution_count": 34,
     "metadata": {},
     "output_type": "execute_result"
    }
   ],
   "source": [
    "df_units['FIRST_HARM_EVT_INV_ID'].value_counts()"
   ]
  },
  {
   "cell_type": "code",
   "execution_count": 35,
   "id": "dcf6a011",
   "metadata": {},
   "outputs": [
    {
     "data": {
      "text/plain": [
       "0    170528\n",
       "1      2832\n",
       "2       119\n",
       "3        15\n",
       "6         3\n",
       "4         2\n",
       "Name: INCAP_INJRY_CNT, dtype: int64"
      ]
     },
     "execution_count": 35,
     "metadata": {},
     "output_type": "execute_result"
    }
   ],
   "source": [
    "df_units['INCAP_INJRY_CNT'].value_counts()"
   ]
  },
  {
   "cell_type": "code",
   "execution_count": 36,
   "id": "62cb47bb",
   "metadata": {},
   "outputs": [
    {
     "data": {
      "text/plain": [
       "0     160441\n",
       "1      12073\n",
       "2        743\n",
       "3        167\n",
       "4         47\n",
       "5         22\n",
       "6          4\n",
       "7          1\n",
       "10         1\n",
       "Name: NONINCAP_INJRY_CNT, dtype: int64"
      ]
     },
     "execution_count": 36,
     "metadata": {},
     "output_type": "execute_result"
    }
   ],
   "source": [
    "df_units['NONINCAP_INJRY_CNT'].value_counts()"
   ]
  },
  {
   "cell_type": "code",
   "execution_count": 37,
   "id": "ccda11b9",
   "metadata": {},
   "outputs": [
    {
     "data": {
      "text/plain": [
       "0     152372\n",
       "1      18693\n",
       "2       1706\n",
       "3        456\n",
       "4        163\n",
       "5         69\n",
       "6         17\n",
       "7         12\n",
       "10         4\n",
       "11         2\n",
       "15         2\n",
       "29         2\n",
       "8          1\n",
       "Name: POSS_INJRY_CNT, dtype: int64"
      ]
     },
     "execution_count": 37,
     "metadata": {},
     "output_type": "execute_result"
    }
   ],
   "source": [
    "df_units['POSS_INJRY_CNT'].value_counts()"
   ]
  },
  {
   "cell_type": "code",
   "execution_count": 38,
   "id": "fa9c0ea2",
   "metadata": {},
   "outputs": [
    {
     "data": {
      "text/plain": [
       "1     110615\n",
       "0      46128\n",
       "2      10341\n",
       "3       3597\n",
       "4       1724\n",
       "5        611\n",
       "6        201\n",
       "7         84\n",
       "8         22\n",
       "9         15\n",
       "11        12\n",
       "14        12\n",
       "13        11\n",
       "10        10\n",
       "21        10\n",
       "26         8\n",
       "12         8\n",
       "29         8\n",
       "32         8\n",
       "17         7\n",
       "25         6\n",
       "28         6\n",
       "42         5\n",
       "23         4\n",
       "16         4\n",
       "36         4\n",
       "41         4\n",
       "18         4\n",
       "31         4\n",
       "40         4\n",
       "37         3\n",
       "45         2\n",
       "33         2\n",
       "73         2\n",
       "46         2\n",
       "63         2\n",
       "22         2\n",
       "53         2\n",
       "43         2\n",
       "35         2\n",
       "27         1\n",
       "Name: NON_INJRY_CNT, dtype: int64"
      ]
     },
     "execution_count": 38,
     "metadata": {},
     "output_type": "execute_result"
    }
   ],
   "source": [
    "df_units['NON_INJRY_CNT'].value_counts()"
   ]
  },
  {
   "cell_type": "code",
   "execution_count": 39,
   "id": "eef8700a",
   "metadata": {},
   "outputs": [
    {
     "data": {
      "text/plain": [
       "0    170352\n",
       "1      2990\n",
       "2       103\n",
       "3        38\n",
       "4        10\n",
       "5         4\n",
       "6         2\n",
       "Name: UNKN_INJRY_CNT, dtype: int64"
      ]
     },
     "execution_count": 39,
     "metadata": {},
     "output_type": "execute_result"
    }
   ],
   "source": [
    "df_units['UNKN_INJRY_CNT'].value_counts()"
   ]
  },
  {
   "cell_type": "code",
   "execution_count": 40,
   "id": "d5906848",
   "metadata": {},
   "outputs": [
    {
     "data": {
      "text/plain": [
       "0     137056\n",
       "1      32507\n",
       "2       2757\n",
       "3        738\n",
       "4        267\n",
       "5        118\n",
       "6         27\n",
       "7         14\n",
       "11         4\n",
       "10         4\n",
       "15         2\n",
       "31         2\n",
       "8          2\n",
       "9          1\n",
       "Name: TOT_INJRY_CNT, dtype: int64"
      ]
     },
     "execution_count": 40,
     "metadata": {},
     "output_type": "execute_result"
    }
   ],
   "source": [
    "df_units['TOT_INJRY_CNT'].value_counts()"
   ]
  },
  {
   "cell_type": "code",
   "execution_count": 41,
   "id": "7d527d05",
   "metadata": {},
   "outputs": [
    {
     "data": {
      "text/plain": [
       "0    173210\n",
       "1       268\n",
       "2        19\n",
       "4         1\n",
       "3         1\n",
       "Name: DEATH_CNT, dtype: int64"
      ]
     },
     "execution_count": 41,
     "metadata": {},
     "output_type": "execute_result"
    }
   ],
   "source": [
    "df_units['DEATH_CNT'].value_counts()"
   ]
  },
  {
   "cell_type": "code",
   "execution_count": 44,
   "id": "5410747d",
   "metadata": {},
   "outputs": [
    {
     "data": {
      "text/plain": [
       "784"
      ]
     },
     "execution_count": 44,
     "metadata": {},
     "output_type": "execute_result"
    }
   ],
   "source": [
    "df_units['VEH_BODY_STYL_ID'].str.contains('MOTORCYCLE').sum()"
   ]
  },
  {
   "cell_type": "code",
   "execution_count": 47,
   "id": "5dbec600",
   "metadata": {},
   "outputs": [
    {
     "data": {
      "text/html": [
       "<div>\n",
       "<style scoped>\n",
       "    .dataframe tbody tr th:only-of-type {\n",
       "        vertical-align: middle;\n",
       "    }\n",
       "\n",
       "    .dataframe tbody tr th {\n",
       "        vertical-align: top;\n",
       "    }\n",
       "\n",
       "    .dataframe thead th {\n",
       "        text-align: right;\n",
       "    }\n",
       "</style>\n",
       "<table border=\"1\" class=\"dataframe\">\n",
       "  <thead>\n",
       "    <tr style=\"text-align: right;\">\n",
       "      <th></th>\n",
       "      <th>CRASH_ID</th>\n",
       "      <th>UNIT_NBR</th>\n",
       "      <th>UNIT_DESC_ID</th>\n",
       "      <th>VEH_PARKED_FL</th>\n",
       "      <th>VEH_HNR_FL</th>\n",
       "      <th>VEH_LIC_STATE_ID</th>\n",
       "      <th>VIN</th>\n",
       "      <th>VEH_MOD_YEAR</th>\n",
       "      <th>VEH_COLOR_ID</th>\n",
       "      <th>VEH_MAKE_ID</th>\n",
       "      <th>...</th>\n",
       "      <th>CONTRIB_FACTR_P1_ID</th>\n",
       "      <th>VEH_TRVL_DIR_ID</th>\n",
       "      <th>FIRST_HARM_EVT_INV_ID</th>\n",
       "      <th>INCAP_INJRY_CNT</th>\n",
       "      <th>NONINCAP_INJRY_CNT</th>\n",
       "      <th>POSS_INJRY_CNT</th>\n",
       "      <th>NON_INJRY_CNT</th>\n",
       "      <th>UNKN_INJRY_CNT</th>\n",
       "      <th>TOT_INJRY_CNT</th>\n",
       "      <th>DEATH_CNT</th>\n",
       "    </tr>\n",
       "  </thead>\n",
       "  <tbody>\n",
       "    <tr>\n",
       "      <th>0</th>\n",
       "      <td>14768622</td>\n",
       "      <td>1</td>\n",
       "      <td>MOTOR VEHICLE</td>\n",
       "      <td>N</td>\n",
       "      <td>N</td>\n",
       "      <td>TX</td>\n",
       "      <td>4S2CK57D1X4381118</td>\n",
       "      <td>1999.0</td>\n",
       "      <td>GRY</td>\n",
       "      <td>ISUZU</td>\n",
       "      <td>...</td>\n",
       "      <td>NaN</td>\n",
       "      <td>EAST</td>\n",
       "      <td>Y</td>\n",
       "      <td>0</td>\n",
       "      <td>0</td>\n",
       "      <td>0</td>\n",
       "      <td>1</td>\n",
       "      <td>0</td>\n",
       "      <td>0</td>\n",
       "      <td>0</td>\n",
       "    </tr>\n",
       "    <tr>\n",
       "      <th>1</th>\n",
       "      <td>14838637</td>\n",
       "      <td>1</td>\n",
       "      <td>MOTOR VEHICLE</td>\n",
       "      <td>N</td>\n",
       "      <td>N</td>\n",
       "      <td>TX</td>\n",
       "      <td>WVWAN7AN6DE536582</td>\n",
       "      <td>NaN</td>\n",
       "      <td>GRY</td>\n",
       "      <td>VOLKSWAGEN</td>\n",
       "      <td>...</td>\n",
       "      <td>NaN</td>\n",
       "      <td>SOUTH</td>\n",
       "      <td>Y</td>\n",
       "      <td>0</td>\n",
       "      <td>0</td>\n",
       "      <td>0</td>\n",
       "      <td>1</td>\n",
       "      <td>0</td>\n",
       "      <td>0</td>\n",
       "      <td>0</td>\n",
       "    </tr>\n",
       "    <tr>\n",
       "      <th>2</th>\n",
       "      <td>14838637</td>\n",
       "      <td>2</td>\n",
       "      <td>MOTOR VEHICLE</td>\n",
       "      <td>N</td>\n",
       "      <td>N</td>\n",
       "      <td>TX</td>\n",
       "      <td>1FUJA6CG24LM14889</td>\n",
       "      <td>2004.0</td>\n",
       "      <td>RED</td>\n",
       "      <td>FREIGHTLINER</td>\n",
       "      <td>...</td>\n",
       "      <td>NaN</td>\n",
       "      <td>SOUTH</td>\n",
       "      <td>Y</td>\n",
       "      <td>0</td>\n",
       "      <td>0</td>\n",
       "      <td>0</td>\n",
       "      <td>1</td>\n",
       "      <td>0</td>\n",
       "      <td>0</td>\n",
       "      <td>0</td>\n",
       "    </tr>\n",
       "    <tr>\n",
       "      <th>3</th>\n",
       "      <td>14838637</td>\n",
       "      <td>2</td>\n",
       "      <td>MOTOR VEHICLE</td>\n",
       "      <td>N</td>\n",
       "      <td>N</td>\n",
       "      <td>TX</td>\n",
       "      <td>1FUJA6CG24LM14889</td>\n",
       "      <td>2004.0</td>\n",
       "      <td>RED</td>\n",
       "      <td>FREIGHTLINER</td>\n",
       "      <td>...</td>\n",
       "      <td>NaN</td>\n",
       "      <td>SOUTH</td>\n",
       "      <td>Y</td>\n",
       "      <td>0</td>\n",
       "      <td>0</td>\n",
       "      <td>0</td>\n",
       "      <td>1</td>\n",
       "      <td>0</td>\n",
       "      <td>0</td>\n",
       "      <td>0</td>\n",
       "    </tr>\n",
       "    <tr>\n",
       "      <th>4</th>\n",
       "      <td>14838637</td>\n",
       "      <td>3</td>\n",
       "      <td>TOWED/TRAILER</td>\n",
       "      <td>NaN</td>\n",
       "      <td>NaN</td>\n",
       "      <td>NaN</td>\n",
       "      <td>NaN</td>\n",
       "      <td>NaN</td>\n",
       "      <td>NaN</td>\n",
       "      <td>NaN</td>\n",
       "      <td>...</td>\n",
       "      <td>NaN</td>\n",
       "      <td>NOT APPLICABLE</td>\n",
       "      <td>N</td>\n",
       "      <td>0</td>\n",
       "      <td>0</td>\n",
       "      <td>0</td>\n",
       "      <td>0</td>\n",
       "      <td>0</td>\n",
       "      <td>0</td>\n",
       "      <td>0</td>\n",
       "    </tr>\n",
       "    <tr>\n",
       "      <th>5</th>\n",
       "      <td>14838641</td>\n",
       "      <td>1</td>\n",
       "      <td>MOTOR VEHICLE</td>\n",
       "      <td>N</td>\n",
       "      <td>N</td>\n",
       "      <td>TX</td>\n",
       "      <td>JHMFA15896S005043</td>\n",
       "      <td>2006.0</td>\n",
       "      <td>GRY</td>\n",
       "      <td>HONDA</td>\n",
       "      <td>...</td>\n",
       "      <td>NaN</td>\n",
       "      <td>NORTHWEST</td>\n",
       "      <td>Y</td>\n",
       "      <td>0</td>\n",
       "      <td>0</td>\n",
       "      <td>1</td>\n",
       "      <td>0</td>\n",
       "      <td>0</td>\n",
       "      <td>1</td>\n",
       "      <td>0</td>\n",
       "    </tr>\n",
       "    <tr>\n",
       "      <th>6</th>\n",
       "      <td>14838641</td>\n",
       "      <td>2</td>\n",
       "      <td>MOTOR VEHICLE</td>\n",
       "      <td>N</td>\n",
       "      <td>N</td>\n",
       "      <td>TX</td>\n",
       "      <td>1GNEC13R8YR146867</td>\n",
       "      <td>2000.0</td>\n",
       "      <td>BLK</td>\n",
       "      <td>CHEVROLET</td>\n",
       "      <td>...</td>\n",
       "      <td>NaN</td>\n",
       "      <td>SOUTHWEST</td>\n",
       "      <td>Y</td>\n",
       "      <td>0</td>\n",
       "      <td>1</td>\n",
       "      <td>0</td>\n",
       "      <td>0</td>\n",
       "      <td>0</td>\n",
       "      <td>1</td>\n",
       "      <td>0</td>\n",
       "    </tr>\n",
       "    <tr>\n",
       "      <th>7</th>\n",
       "      <td>14838668</td>\n",
       "      <td>1</td>\n",
       "      <td>MOTOR VEHICLE</td>\n",
       "      <td>N</td>\n",
       "      <td>N</td>\n",
       "      <td>TX</td>\n",
       "      <td>JM1BK32F791214223</td>\n",
       "      <td>NaN</td>\n",
       "      <td>BLK</td>\n",
       "      <td>MAZDA</td>\n",
       "      <td>...</td>\n",
       "      <td>NaN</td>\n",
       "      <td>NORTHWEST</td>\n",
       "      <td>Y</td>\n",
       "      <td>0</td>\n",
       "      <td>0</td>\n",
       "      <td>0</td>\n",
       "      <td>1</td>\n",
       "      <td>0</td>\n",
       "      <td>0</td>\n",
       "      <td>0</td>\n",
       "    </tr>\n",
       "    <tr>\n",
       "      <th>8</th>\n",
       "      <td>14838669</td>\n",
       "      <td>1</td>\n",
       "      <td>MOTOR VEHICLE</td>\n",
       "      <td>N</td>\n",
       "      <td>N</td>\n",
       "      <td>TX</td>\n",
       "      <td>1GCEC14X89Z178483</td>\n",
       "      <td>NaN</td>\n",
       "      <td>WHI</td>\n",
       "      <td>CHEVROLET</td>\n",
       "      <td>...</td>\n",
       "      <td>NaN</td>\n",
       "      <td>WEST</td>\n",
       "      <td>Y</td>\n",
       "      <td>0</td>\n",
       "      <td>0</td>\n",
       "      <td>0</td>\n",
       "      <td>1</td>\n",
       "      <td>0</td>\n",
       "      <td>0</td>\n",
       "      <td>0</td>\n",
       "    </tr>\n",
       "    <tr>\n",
       "      <th>9</th>\n",
       "      <td>14838669</td>\n",
       "      <td>2</td>\n",
       "      <td>MOTOR VEHICLE</td>\n",
       "      <td>N</td>\n",
       "      <td>N</td>\n",
       "      <td>TX</td>\n",
       "      <td>JM1BL1SF9A1147727</td>\n",
       "      <td>NaN</td>\n",
       "      <td>BLK</td>\n",
       "      <td>MAZDA</td>\n",
       "      <td>...</td>\n",
       "      <td>NaN</td>\n",
       "      <td>WEST</td>\n",
       "      <td>Y</td>\n",
       "      <td>0</td>\n",
       "      <td>0</td>\n",
       "      <td>0</td>\n",
       "      <td>1</td>\n",
       "      <td>0</td>\n",
       "      <td>0</td>\n",
       "      <td>0</td>\n",
       "    </tr>\n",
       "    <tr>\n",
       "      <th>10</th>\n",
       "      <td>14838670</td>\n",
       "      <td>1</td>\n",
       "      <td>MOTOR VEHICLE</td>\n",
       "      <td>N</td>\n",
       "      <td>N</td>\n",
       "      <td>TX</td>\n",
       "      <td>1J4GL58K53W701914</td>\n",
       "      <td>2003.0</td>\n",
       "      <td>SIL</td>\n",
       "      <td>JEEP</td>\n",
       "      <td>...</td>\n",
       "      <td>NaN</td>\n",
       "      <td>EAST</td>\n",
       "      <td>Y</td>\n",
       "      <td>0</td>\n",
       "      <td>0</td>\n",
       "      <td>0</td>\n",
       "      <td>1</td>\n",
       "      <td>0</td>\n",
       "      <td>0</td>\n",
       "      <td>0</td>\n",
       "    </tr>\n",
       "    <tr>\n",
       "      <th>11</th>\n",
       "      <td>14838670</td>\n",
       "      <td>2</td>\n",
       "      <td>MOTOR VEHICLE</td>\n",
       "      <td>Y</td>\n",
       "      <td>N</td>\n",
       "      <td>TX</td>\n",
       "      <td>JS2RA61S045207476</td>\n",
       "      <td>2004.0</td>\n",
       "      <td>GLD</td>\n",
       "      <td>SUZUKI</td>\n",
       "      <td>...</td>\n",
       "      <td>NaN</td>\n",
       "      <td>EAST</td>\n",
       "      <td>Y</td>\n",
       "      <td>0</td>\n",
       "      <td>0</td>\n",
       "      <td>0</td>\n",
       "      <td>0</td>\n",
       "      <td>0</td>\n",
       "      <td>0</td>\n",
       "      <td>0</td>\n",
       "    </tr>\n",
       "    <tr>\n",
       "      <th>12</th>\n",
       "      <td>14838670</td>\n",
       "      <td>3</td>\n",
       "      <td>MOTOR VEHICLE</td>\n",
       "      <td>Y</td>\n",
       "      <td>N</td>\n",
       "      <td>TX</td>\n",
       "      <td>1FTEW1CM3CFC20128</td>\n",
       "      <td>NaN</td>\n",
       "      <td>GRY</td>\n",
       "      <td>FORD</td>\n",
       "      <td>...</td>\n",
       "      <td>NaN</td>\n",
       "      <td>WEST</td>\n",
       "      <td>N</td>\n",
       "      <td>0</td>\n",
       "      <td>0</td>\n",
       "      <td>0</td>\n",
       "      <td>0</td>\n",
       "      <td>0</td>\n",
       "      <td>0</td>\n",
       "      <td>0</td>\n",
       "    </tr>\n",
       "    <tr>\n",
       "      <th>13</th>\n",
       "      <td>14838685</td>\n",
       "      <td>1</td>\n",
       "      <td>MOTOR VEHICLE</td>\n",
       "      <td>N</td>\n",
       "      <td>N</td>\n",
       "      <td>TX</td>\n",
       "      <td>1HGCG16522A035476</td>\n",
       "      <td>2002.0</td>\n",
       "      <td>RED</td>\n",
       "      <td>HONDA</td>\n",
       "      <td>...</td>\n",
       "      <td>NaN</td>\n",
       "      <td>SOUTHWEST</td>\n",
       "      <td>Y</td>\n",
       "      <td>0</td>\n",
       "      <td>0</td>\n",
       "      <td>0</td>\n",
       "      <td>1</td>\n",
       "      <td>0</td>\n",
       "      <td>0</td>\n",
       "      <td>0</td>\n",
       "    </tr>\n",
       "    <tr>\n",
       "      <th>14</th>\n",
       "      <td>14838693</td>\n",
       "      <td>1</td>\n",
       "      <td>MOTOR VEHICLE</td>\n",
       "      <td>N</td>\n",
       "      <td>N</td>\n",
       "      <td>TX</td>\n",
       "      <td>1GCJC33U24F229732</td>\n",
       "      <td>2004.0</td>\n",
       "      <td>WHI</td>\n",
       "      <td>CHEVROLET</td>\n",
       "      <td>...</td>\n",
       "      <td>DISABLED IN TRAFFIC LANE</td>\n",
       "      <td>NORTHWEST</td>\n",
       "      <td>Y</td>\n",
       "      <td>0</td>\n",
       "      <td>0</td>\n",
       "      <td>0</td>\n",
       "      <td>1</td>\n",
       "      <td>0</td>\n",
       "      <td>0</td>\n",
       "      <td>0</td>\n",
       "    </tr>\n",
       "    <tr>\n",
       "      <th>15</th>\n",
       "      <td>14838768</td>\n",
       "      <td>1</td>\n",
       "      <td>MOTOR VEHICLE</td>\n",
       "      <td>N</td>\n",
       "      <td>N</td>\n",
       "      <td>CA</td>\n",
       "      <td>2HNYD18814H543053</td>\n",
       "      <td>2004.0</td>\n",
       "      <td>SIL</td>\n",
       "      <td>ACURA</td>\n",
       "      <td>...</td>\n",
       "      <td>NaN</td>\n",
       "      <td>EAST</td>\n",
       "      <td>Y</td>\n",
       "      <td>0</td>\n",
       "      <td>0</td>\n",
       "      <td>1</td>\n",
       "      <td>1</td>\n",
       "      <td>0</td>\n",
       "      <td>1</td>\n",
       "      <td>0</td>\n",
       "    </tr>\n",
       "    <tr>\n",
       "      <th>16</th>\n",
       "      <td>14838768</td>\n",
       "      <td>2</td>\n",
       "      <td>MOTOR VEHICLE</td>\n",
       "      <td>N</td>\n",
       "      <td>N</td>\n",
       "      <td>TX</td>\n",
       "      <td>4T1BE46K97U049772</td>\n",
       "      <td>2007.0</td>\n",
       "      <td>SIL</td>\n",
       "      <td>TOYOTA</td>\n",
       "      <td>...</td>\n",
       "      <td>NaN</td>\n",
       "      <td>SOUTH</td>\n",
       "      <td>Y</td>\n",
       "      <td>0</td>\n",
       "      <td>0</td>\n",
       "      <td>0</td>\n",
       "      <td>1</td>\n",
       "      <td>0</td>\n",
       "      <td>0</td>\n",
       "      <td>0</td>\n",
       "    </tr>\n",
       "    <tr>\n",
       "      <th>17</th>\n",
       "      <td>14838834</td>\n",
       "      <td>1</td>\n",
       "      <td>MOTOR VEHICLE</td>\n",
       "      <td>N</td>\n",
       "      <td>Y</td>\n",
       "      <td>TX</td>\n",
       "      <td>5TFJV52167X002099</td>\n",
       "      <td>2007.0</td>\n",
       "      <td>99</td>\n",
       "      <td>TOYOTA</td>\n",
       "      <td>...</td>\n",
       "      <td>NaN</td>\n",
       "      <td>SOUTH</td>\n",
       "      <td>Y</td>\n",
       "      <td>0</td>\n",
       "      <td>0</td>\n",
       "      <td>0</td>\n",
       "      <td>1</td>\n",
       "      <td>0</td>\n",
       "      <td>0</td>\n",
       "      <td>0</td>\n",
       "    </tr>\n",
       "    <tr>\n",
       "      <th>18</th>\n",
       "      <td>14838834</td>\n",
       "      <td>2</td>\n",
       "      <td>MOTOR VEHICLE</td>\n",
       "      <td>Y</td>\n",
       "      <td>N</td>\n",
       "      <td>TX</td>\n",
       "      <td>1D8GU28K07W640397</td>\n",
       "      <td>2007.0</td>\n",
       "      <td>SIL</td>\n",
       "      <td>DODGE</td>\n",
       "      <td>...</td>\n",
       "      <td>NaN</td>\n",
       "      <td>EAST</td>\n",
       "      <td>Y</td>\n",
       "      <td>0</td>\n",
       "      <td>0</td>\n",
       "      <td>0</td>\n",
       "      <td>0</td>\n",
       "      <td>0</td>\n",
       "      <td>0</td>\n",
       "      <td>0</td>\n",
       "    </tr>\n",
       "    <tr>\n",
       "      <th>19</th>\n",
       "      <td>14838834</td>\n",
       "      <td>3</td>\n",
       "      <td>MOTOR VEHICLE</td>\n",
       "      <td>Y</td>\n",
       "      <td>N</td>\n",
       "      <td>TX</td>\n",
       "      <td>1MELM62W9SH630933</td>\n",
       "      <td>1995.0</td>\n",
       "      <td>GRN</td>\n",
       "      <td>MERCURY</td>\n",
       "      <td>...</td>\n",
       "      <td>NaN</td>\n",
       "      <td>EAST</td>\n",
       "      <td>N</td>\n",
       "      <td>0</td>\n",
       "      <td>0</td>\n",
       "      <td>0</td>\n",
       "      <td>0</td>\n",
       "      <td>0</td>\n",
       "      <td>0</td>\n",
       "      <td>0</td>\n",
       "    </tr>\n",
       "  </tbody>\n",
       "</table>\n",
       "<p>20 rows × 37 columns</p>\n",
       "</div>"
      ],
      "text/plain": [
       "    CRASH_ID  UNIT_NBR   UNIT_DESC_ID VEH_PARKED_FL VEH_HNR_FL  \\\n",
       "0   14768622         1  MOTOR VEHICLE             N          N   \n",
       "1   14838637         1  MOTOR VEHICLE             N          N   \n",
       "2   14838637         2  MOTOR VEHICLE             N          N   \n",
       "3   14838637         2  MOTOR VEHICLE             N          N   \n",
       "4   14838637         3  TOWED/TRAILER           NaN        NaN   \n",
       "5   14838641         1  MOTOR VEHICLE             N          N   \n",
       "6   14838641         2  MOTOR VEHICLE             N          N   \n",
       "7   14838668         1  MOTOR VEHICLE             N          N   \n",
       "8   14838669         1  MOTOR VEHICLE             N          N   \n",
       "9   14838669         2  MOTOR VEHICLE             N          N   \n",
       "10  14838670         1  MOTOR VEHICLE             N          N   \n",
       "11  14838670         2  MOTOR VEHICLE             Y          N   \n",
       "12  14838670         3  MOTOR VEHICLE             Y          N   \n",
       "13  14838685         1  MOTOR VEHICLE             N          N   \n",
       "14  14838693         1  MOTOR VEHICLE             N          N   \n",
       "15  14838768         1  MOTOR VEHICLE             N          N   \n",
       "16  14838768         2  MOTOR VEHICLE             N          N   \n",
       "17  14838834         1  MOTOR VEHICLE             N          Y   \n",
       "18  14838834         2  MOTOR VEHICLE             Y          N   \n",
       "19  14838834         3  MOTOR VEHICLE             Y          N   \n",
       "\n",
       "   VEH_LIC_STATE_ID                VIN  VEH_MOD_YEAR VEH_COLOR_ID  \\\n",
       "0                TX  4S2CK57D1X4381118        1999.0          GRY   \n",
       "1                TX  WVWAN7AN6DE536582           NaN          GRY   \n",
       "2                TX  1FUJA6CG24LM14889        2004.0          RED   \n",
       "3                TX  1FUJA6CG24LM14889        2004.0          RED   \n",
       "4               NaN                NaN           NaN          NaN   \n",
       "5                TX  JHMFA15896S005043        2006.0          GRY   \n",
       "6                TX  1GNEC13R8YR146867        2000.0          BLK   \n",
       "7                TX  JM1BK32F791214223           NaN          BLK   \n",
       "8                TX  1GCEC14X89Z178483           NaN          WHI   \n",
       "9                TX  JM1BL1SF9A1147727           NaN          BLK   \n",
       "10               TX  1J4GL58K53W701914        2003.0          SIL   \n",
       "11               TX  JS2RA61S045207476        2004.0          GLD   \n",
       "12               TX  1FTEW1CM3CFC20128           NaN          GRY   \n",
       "13               TX  1HGCG16522A035476        2002.0          RED   \n",
       "14               TX  1GCJC33U24F229732        2004.0          WHI   \n",
       "15               CA  2HNYD18814H543053        2004.0          SIL   \n",
       "16               TX  4T1BE46K97U049772        2007.0          SIL   \n",
       "17               TX  5TFJV52167X002099        2007.0           99   \n",
       "18               TX  1D8GU28K07W640397        2007.0          SIL   \n",
       "19               TX  1MELM62W9SH630933        1995.0          GRN   \n",
       "\n",
       "     VEH_MAKE_ID  ...       CONTRIB_FACTR_P1_ID VEH_TRVL_DIR_ID  \\\n",
       "0          ISUZU  ...                       NaN            EAST   \n",
       "1     VOLKSWAGEN  ...                       NaN           SOUTH   \n",
       "2   FREIGHTLINER  ...                       NaN           SOUTH   \n",
       "3   FREIGHTLINER  ...                       NaN           SOUTH   \n",
       "4            NaN  ...                       NaN  NOT APPLICABLE   \n",
       "5          HONDA  ...                       NaN       NORTHWEST   \n",
       "6      CHEVROLET  ...                       NaN       SOUTHWEST   \n",
       "7          MAZDA  ...                       NaN       NORTHWEST   \n",
       "8      CHEVROLET  ...                       NaN            WEST   \n",
       "9          MAZDA  ...                       NaN            WEST   \n",
       "10          JEEP  ...                       NaN            EAST   \n",
       "11        SUZUKI  ...                       NaN            EAST   \n",
       "12          FORD  ...                       NaN            WEST   \n",
       "13         HONDA  ...                       NaN       SOUTHWEST   \n",
       "14     CHEVROLET  ...  DISABLED IN TRAFFIC LANE       NORTHWEST   \n",
       "15         ACURA  ...                       NaN            EAST   \n",
       "16        TOYOTA  ...                       NaN           SOUTH   \n",
       "17        TOYOTA  ...                       NaN           SOUTH   \n",
       "18         DODGE  ...                       NaN            EAST   \n",
       "19       MERCURY  ...                       NaN            EAST   \n",
       "\n",
       "   FIRST_HARM_EVT_INV_ID INCAP_INJRY_CNT NONINCAP_INJRY_CNT POSS_INJRY_CNT  \\\n",
       "0                      Y               0                  0              0   \n",
       "1                      Y               0                  0              0   \n",
       "2                      Y               0                  0              0   \n",
       "3                      Y               0                  0              0   \n",
       "4                      N               0                  0              0   \n",
       "5                      Y               0                  0              1   \n",
       "6                      Y               0                  1              0   \n",
       "7                      Y               0                  0              0   \n",
       "8                      Y               0                  0              0   \n",
       "9                      Y               0                  0              0   \n",
       "10                     Y               0                  0              0   \n",
       "11                     Y               0                  0              0   \n",
       "12                     N               0                  0              0   \n",
       "13                     Y               0                  0              0   \n",
       "14                     Y               0                  0              0   \n",
       "15                     Y               0                  0              1   \n",
       "16                     Y               0                  0              0   \n",
       "17                     Y               0                  0              0   \n",
       "18                     Y               0                  0              0   \n",
       "19                     N               0                  0              0   \n",
       "\n",
       "   NON_INJRY_CNT UNKN_INJRY_CNT  TOT_INJRY_CNT DEATH_CNT  \n",
       "0              1              0              0         0  \n",
       "1              1              0              0         0  \n",
       "2              1              0              0         0  \n",
       "3              1              0              0         0  \n",
       "4              0              0              0         0  \n",
       "5              0              0              1         0  \n",
       "6              0              0              1         0  \n",
       "7              1              0              0         0  \n",
       "8              1              0              0         0  \n",
       "9              1              0              0         0  \n",
       "10             1              0              0         0  \n",
       "11             0              0              0         0  \n",
       "12             0              0              0         0  \n",
       "13             1              0              0         0  \n",
       "14             1              0              0         0  \n",
       "15             1              0              1         0  \n",
       "16             1              0              0         0  \n",
       "17             1              0              0         0  \n",
       "18             0              0              0         0  \n",
       "19             0              0              0         0  \n",
       "\n",
       "[20 rows x 37 columns]"
      ]
     },
     "execution_count": 47,
     "metadata": {},
     "output_type": "execute_result"
    }
   ],
   "source": [
    "df_units.head(20)"
   ]
  },
  {
   "cell_type": "code",
   "execution_count": 50,
   "id": "6ff4a674",
   "metadata": {},
   "outputs": [],
   "source": [
    "df_units['TOT_CASUALTIES_CNT']=df_units['UNKN_INJRY_CNT']+df_units['TOT_INJRY_CNT']"
   ]
  },
  {
   "cell_type": "code",
   "execution_count": 51,
   "id": "2686c1c4",
   "metadata": {},
   "outputs": [
    {
     "data": {
      "text/plain": [
       "0         0\n",
       "1         0\n",
       "2         0\n",
       "3         0\n",
       "4         0\n",
       "         ..\n",
       "173494    0\n",
       "173495    0\n",
       "173496    0\n",
       "173497    0\n",
       "173498    0\n",
       "Name: TOT_CASUALTIES_CNT, Length: 173499, dtype: int64"
      ]
     },
     "execution_count": 51,
     "metadata": {},
     "output_type": "execute_result"
    }
   ],
   "source": [
    "df_units['TOT_CASUALTIES_CNT']"
   ]
  },
  {
   "cell_type": "code",
   "execution_count": 61,
   "id": "91f0fb4d",
   "metadata": {},
   "outputs": [],
   "source": [
    "df_Tot_count=df_units.groupby(['VEH_MAKE_ID'])['TOT_CASUALTIES_CNT'].agg('sum').sort_values(ascending=False)\n"
   ]
  },
  {
   "cell_type": "code",
   "execution_count": 66,
   "id": "7ffa1b91",
   "metadata": {},
   "outputs": [
    {
     "data": {
      "text/plain": [
       "Index(['HONDA', 'GMC', 'HYUNDAI', 'KIA', 'JEEP', 'CHRYSLER', 'MAZDA',\n",
       "       'UNKNOWN', 'VOLKSWAGEN', 'PONTIAC', 'LEXUS'],\n",
       "      dtype='object', name='VEH_MAKE_ID')"
      ]
     },
     "execution_count": 66,
     "metadata": {},
     "output_type": "execute_result"
    }
   ],
   "source": [
    "df_Tot_count.index[5:16]"
   ]
  },
  {
   "cell_type": "code",
   "execution_count": null,
   "id": "3c41f1b6",
   "metadata": {},
   "outputs": [],
   "source": []
  }
 ],
 "metadata": {
  "kernelspec": {
   "display_name": "Python 3 (ipykernel)",
   "language": "python",
   "name": "python3"
  },
  "language_info": {
   "codemirror_mode": {
    "name": "ipython",
    "version": 3
   },
   "file_extension": ".py",
   "mimetype": "text/x-python",
   "name": "python",
   "nbconvert_exporter": "python",
   "pygments_lexer": "ipython3",
   "version": "3.9.13"
  }
 },
 "nbformat": 4,
 "nbformat_minor": 5
}
